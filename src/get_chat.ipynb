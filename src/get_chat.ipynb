{
 "cells": [
  {
   "cell_type": "code",
   "execution_count": 1,
   "metadata": {},
   "outputs": [],
   "source": [
    "import sys\n",
    "from pprint import pprint\n",
    "\n",
    "import pandas as pd\n",
    "\n",
    "from livestreaming import get_livestreaming_details, get_live_chat\n",
    "import livestreaming as ls\n",
    "from authorization import get_api_key\n",
    "\n",
    "API_KEY = get_api_key()"
   ]
  },
  {
   "cell_type": "markdown",
   "metadata": {},
   "source": [
    "# 生放送の情報を取得"
   ]
  },
  {
   "cell_type": "code",
   "execution_count": 21,
   "metadata": {},
   "outputs": [],
   "source": [
    "#     https://www.youtube.com/watch?v=\n",
    "video_id = \"1FaYtD5GktM\"\n",
    "\n",
    "# ライブ配信の詳細情報を取得\n",
    "detail = get_livestreaming_details(API_KEY, video_id)\n",
    "activelivechatid = detail['items'][0]['liveStreamingDetails']['activeLiveChatId']"
   ]
  },
  {
   "cell_type": "markdown",
   "metadata": {},
   "source": [
    "## コメントと同接数取得テスト"
   ]
  },
  {
   "cell_type": "code",
   "execution_count": 22,
   "metadata": {},
   "outputs": [
    {
     "data": {
      "text/plain": [
       "{'kind': 'youtube#videoListResponse',\n",
       " 'etag': 'i5PBmnDFWZn-w6AhSGgsj9fhPRo',\n",
       " 'items': [{'kind': 'youtube#video',\n",
       "   'etag': 'QZ9GCRLb2yBkTtMXcTs8ZWHlya8',\n",
       "   'id': '-IRjEVNaeRU',\n",
       "   'liveStreamingDetails': {'actualStartTime': '2020-08-27T10:07:48.885000Z',\n",
       "    'scheduledStartTime': '2020-08-27T10:05:00Z',\n",
       "    'concurrentViewers': '20501',\n",
       "    'activeLiveChatId': 'Cg0KCy1JUmpFVk5hZVJVKicKGFVDMkd1b3V0VnllZ2c2UFVLODhsTHBqdxILLUlSakVWTmFlUlU'}}],\n",
       " 'pageInfo': {'totalResults': 1, 'resultsPerPage': 1}}"
      ]
     },
     "execution_count": 22,
     "metadata": {},
     "output_type": "execute_result"
    }
   ],
   "source": [
    "# concurrentViewers\n",
    "detail"
   ]
  },
  {
   "cell_type": "code",
   "execution_count": 23,
   "metadata": {},
   "outputs": [
    {
     "data": {
      "text/html": [
       "<div>\n",
       "<style scoped>\n",
       "    .dataframe tbody tr th:only-of-type {\n",
       "        vertical-align: middle;\n",
       "    }\n",
       "\n",
       "    .dataframe tbody tr th {\n",
       "        vertical-align: top;\n",
       "    }\n",
       "\n",
       "    .dataframe thead th {\n",
       "        text-align: right;\n",
       "    }\n",
       "</style>\n",
       "<table border=\"1\" class=\"dataframe\">\n",
       "  <thead>\n",
       "    <tr style=\"text-align: right;\">\n",
       "      <th></th>\n",
       "      <th>publishedAt</th>\n",
       "      <th>displayMessage</th>\n",
       "      <th>displayName</th>\n",
       "      <th>isChatModerator</th>\n",
       "    </tr>\n",
       "  </thead>\n",
       "  <tbody>\n",
       "    <tr>\n",
       "      <th>0</th>\n",
       "      <td>2020-08-27 11:44:02</td>\n",
       "      <td>へぇ…</td>\n",
       "      <td>M Y</td>\n",
       "      <td>False</td>\n",
       "    </tr>\n",
       "    <tr>\n",
       "      <th>1</th>\n",
       "      <td>2020-08-27 11:44:04</td>\n",
       "      <td>ボスも居るのか…ひぃ</td>\n",
       "      <td>寝オチ</td>\n",
       "      <td>False</td>\n",
       "    </tr>\n",
       "    <tr>\n",
       "      <th>2</th>\n",
       "      <td>2020-08-27 11:44:04</td>\n",
       "      <td>電源言ってなくない？WOW</td>\n",
       "      <td>勇者メレブ</td>\n",
       "      <td>False</td>\n",
       "    </tr>\n",
       "    <tr>\n",
       "      <th>3</th>\n",
       "      <td>2020-08-27 11:44:05</td>\n",
       "      <td>へー</td>\n",
       "      <td>泡キコ</td>\n",
       "      <td>False</td>\n",
       "    </tr>\n",
       "    <tr>\n",
       "      <th>4</th>\n",
       "      <td>2020-08-27 11:44:05</td>\n",
       "      <td>:_2BROOtojya:インチェの中の１人は中々のお化け屋敷ですね👍</td>\n",
       "      <td>加圧トレーニングBamboo</td>\n",
       "      <td>False</td>\n",
       "    </tr>\n",
       "  </tbody>\n",
       "</table>\n",
       "</div>"
      ],
      "text/plain": [
       "           publishedAt                       displayMessage     displayName  \\\n",
       "0  2020-08-27 11:44:02                                  へぇ…             M Y   \n",
       "1  2020-08-27 11:44:04                           ボスも居るのか…ひぃ             寝オチ   \n",
       "2  2020-08-27 11:44:04                        電源言ってなくない？WOW           勇者メレブ   \n",
       "3  2020-08-27 11:44:05                                   へー             泡キコ   \n",
       "4  2020-08-27 11:44:05  :_2BROOtojya:インチェの中の１人は中々のお化け屋敷ですね👍  加圧トレーニングBamboo   \n",
       "\n",
       "   isChatModerator  \n",
       "0            False  \n",
       "1            False  \n",
       "2            False  \n",
       "3            False  \n",
       "4            False  "
      ]
     },
     "execution_count": 23,
     "metadata": {},
     "output_type": "execute_result"
    }
   ],
   "source": [
    "# ライブ配信のチャットを取得\n",
    "livechat = get_live_chat(API_KEY, activelivechatid)\n",
    "\n",
    "c = ls.get_comment_data(livechat['items'])\n",
    "df = pd.DataFrame(c, columns=['publishedAt', 'displayMessage', 'displayName', 'isChatModerator']).head()\n",
    "df.head()"
   ]
  },
  {
   "cell_type": "markdown",
   "metadata": {},
   "source": [
    "# 現在配信中の同時接続数を取得する"
   ]
  },
  {
   "cell_type": "code",
   "execution_count": null,
   "metadata": {},
   "outputs": [],
   "source": [
    "get_concurrent_viewers(API_KEY, savepath='../data/concurrent_viewers/', video_id=video_id, interval=60)"
   ]
  },
  {
   "cell_type": "markdown",
   "metadata": {},
   "source": [
    "# 現在配信中のコメントを取得する"
   ]
  },
  {
   "cell_type": "code",
   "execution_count": null,
   "metadata": {},
   "outputs": [],
   "source": [
    "get_livechat_all(API_KEY, savepath='../data/comments/', video_id=video_id, interval=60)"
   ]
  },
  {
   "cell_type": "markdown",
   "metadata": {},
   "source": [
    "# 生放送のアーカイブのコメントを取得する"
   ]
  },
  {
   "cell_type": "code",
   "execution_count": null,
   "metadata": {},
   "outputs": [],
   "source": [
    "from livearchive import get_livechat_replay\n",
    "\n",
    "video_id = \"VEYkH2LUDAQ\"\n",
    "\n",
    "get_livechat_replay(video_id=video_id, savepath=\"../data/comments\", interval=0.1)"
   ]
  },
  {
   "cell_type": "code",
   "execution_count": null,
   "metadata": {},
   "outputs": [],
   "source": []
  }
 ],
 "metadata": {
  "kernelspec": {
   "display_name": "Python 3",
   "language": "python",
   "name": "python3"
  },
  "language_info": {
   "codemirror_mode": {
    "name": "ipython",
    "version": 3
   },
   "file_extension": ".py",
   "mimetype": "text/x-python",
   "name": "python",
   "nbconvert_exporter": "python",
   "pygments_lexer": "ipython3",
   "version": "3.6.8"
  }
 },
 "nbformat": 4,
 "nbformat_minor": 4
}
